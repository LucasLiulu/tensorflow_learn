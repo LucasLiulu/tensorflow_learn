{
 "cells": [
  {
   "cell_type": "code",
   "execution_count": null,
   "metadata": {
    "collapsed": true
   },
   "outputs": [],
   "source": [
    "# 主要学习搭建卷积神经网络和迁移学习。"
   ]
  },
  {
   "cell_type": "code",
   "execution_count": 3,
   "metadata": {
    "collapsed": true
   },
   "outputs": [],
   "source": [
    "import tensorflow as tf "
   ]
  },
  {
   "cell_type": "code",
   "execution_count": 6,
   "metadata": {},
   "outputs": [],
   "source": [
    "slim = tf.contrib.slim"
   ]
  },
  {
   "cell_type": "markdown",
   "metadata": {},
   "source": [
    "'''卷积层'''"
   ]
  },
  {
   "cell_type": "code",
   "execution_count": 7,
   "metadata": {
    "collapsed": true
   },
   "outputs": [],
   "source": [
    "# 5是卷积核的大小，也就是过滤器的尺寸。\n",
    "# 代表当前层的深度，即当前层的神经元个数；\n",
    "# 16代表过滤器深度，也就是下一层神经元的个数\n",
    "filter_weight = tf.get_variable('weights', [5, 5, 3, 16], initializer=tf.truncated_normal_initializer(0.1))    \n",
    "# 16代表过滤器深度，也就是下一层神经元的个数\n",
    "biases = tf.get_variable('biases', [16], initializer=tf.truncated_normal_initializer(0.1))\n",
    "\n",
    "# conv2d是实现卷积层前向传播的算法\n",
    "# 第一个参数是输入数据\n",
    "# 第二个参数是权值\n",
    "# 第三个参数是卷积核移动的步长，它是一个四维向量，其中第一和最后一个元素必须都为1，中间两个参数分别代表长和宽\n",
    "# 最后一个参数代表是否填充0，SAME填充0\n",
    "conv = tf.nn.conv2d(input, filter_weight, strides=[1,2, 2, 1], padding='SAME')\n",
    "\n",
    "# bias_add函数是给本层每个神经元添加偏置的\n",
    "bias = tf.nn.bias_add(conv, biases)\n",
    "# 激活函数去线性化\n",
    "actived_conv = tf.nn.relu(bias)\n"
   ]
  },
  {
   "cell_type": "markdown",
   "metadata": {},
   "source": [
    "'''池化层'''"
   ]
  },
  {
   "cell_type": "code",
   "execution_count": null,
   "metadata": {
    "collapsed": true
   },
   "outputs": [],
   "source": [
    "# max_pool实现最大池化层的前向传播。\n",
    "# ksize是过滤器尺寸， strides是步长, 前后两个元素都只能是1\n",
    "pool = tf.nn.max_pool(actived_conv, ksize=[1, 3, 3, 1], strides=[1, 2, 2, 1], padding=‘SAME’)\n"
   ]
  },
  {
   "cell_type": "code",
   "execution_count": null,
   "metadata": {
    "collapsed": true
   },
   "outputs": [],
   "source": [
    "# LeNet-5模型实现代码见一下连接：\n",
    "# https://github.com/caicloud/tensorflow-tutorial/tree/master/Deep_Learning_with_TensorFlow/1.4.0/Chapter06/LeNet-5"
   ]
  },
  {
   "cell_type": "code",
   "execution_count": null,
   "metadata": {
    "collapsed": true
   },
   "outputs": [],
   "source": [
    "# 迁移学习还需研究。"
   ]
  }
 ],
 "metadata": {
  "kernelspec": {
   "display_name": "Python 3",
   "language": "python",
   "name": "python3"
  },
  "language_info": {
   "codemirror_mode": {
    "name": "ipython",
    "version": 3
   },
   "file_extension": ".py",
   "mimetype": "text/x-python",
   "name": "python",
   "nbconvert_exporter": "python",
   "pygments_lexer": "ipython3",
   "version": "3.5.4"
  }
 },
 "nbformat": 4,
 "nbformat_minor": 2
}
