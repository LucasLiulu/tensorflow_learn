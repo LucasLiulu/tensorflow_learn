{
 "cells": [
  {
   "cell_type": "code",
   "execution_count": 1,
   "metadata": {
    "collapsed": true
   },
   "outputs": [],
   "source": [
    "import tensorflow as tf\n",
    "import numpy as np"
   ]
  },
  {
   "cell_type": "code",
   "execution_count": 2,
   "metadata": {},
   "outputs": [
    {
     "name": "stdout",
     "output_type": "stream",
     "text": [
      "Tensor(\"add:0\", shape=(2,), dtype=float32)\n"
     ]
    }
   ],
   "source": [
    "a = tf.constant([1.0, 2.3], name='a')\n",
    "b = tf.constant([2.0, 2.2], name='b')\n",
    "result = a+b\n",
    "print(result)"
   ]
  },
  {
   "cell_type": "code",
   "execution_count": 7,
   "metadata": {},
   "outputs": [
    {
     "name": "stdout",
     "output_type": "stream",
     "text": [
      "<tf.Variable 'Variable_3:0' shape=(2, 3) dtype=float32_ref>\n"
     ]
    }
   ],
   "source": [
    "weights = tf.Variable(tf.random_normal([2, 3], stddev=2))    # 给变量赋初值\n",
    "print(weights)"
   ]
  },
  {
   "cell_type": "code",
   "execution_count": 9,
   "metadata": {
    "collapsed": true
   },
   "outputs": [],
   "source": [
    "w2 = tf.Variable(weights.initialized_value())    # 使用其他变量来初始化新的变量\n",
    "w3 = tf.Variable(weights.initialized_value() * 3.0)"
   ]
  },
  {
   "cell_type": "code",
   "execution_count": 5,
   "metadata": {},
   "outputs": [
    {
     "data": {
      "text/plain": [
       "<tf.Variable 'Variable_2:0' shape=(3,) dtype=float32_ref>"
      ]
     },
     "execution_count": 5,
     "metadata": {},
     "output_type": "execute_result"
    }
   ],
   "source": [
    "tf.Variable(tf.zeros([3]))"
   ]
  },
  {
   "cell_type": "code",
   "execution_count": 20,
   "metadata": {},
   "outputs": [
    {
     "name": "stdout",
     "output_type": "stream",
     "text": [
      "[[3.957578]]\n"
     ]
    }
   ],
   "source": [
    "w1 = tf.Variable(tf.random_normal([2, 3], stddev=1, seed=1), name='w1')   # 设置随机数种子，保证每次运行的结果都相同。\n",
    "w2 = tf.Variable(tf.random_normal([3, 1], stddev=1, seed=1), name='w2')\n",
    "x = tf.constant([[0.7, 0.9]])\n",
    "a = tf.matmul(x, w1)\n",
    "y = tf.matmul(a, w2)\n",
    "sess = tf.Session()\n",
    "'''\n",
    "sess.run(w1.initializer)\n",
    "sess.run(w2.initializer)\n",
    "'''\n",
    "init_op = tf.global_variables_initializer()    #一次初始化所有变量\n",
    "sess.run(init_op)\n",
    "print(sess.run(y))\n",
    "sess.close()"
   ]
  },
  {
   "cell_type": "code",
   "execution_count": 14,
   "metadata": {},
   "outputs": [
    {
     "data": {
      "text/plain": [
       "[<tf.Variable 'Variable:0' shape=(2, 3) dtype=float32_ref>,\n",
       " <tf.Variable 'Variable_1:0' shape=(2, 3) dtype=float32_ref>,\n",
       " <tf.Variable 'Variable_2:0' shape=(3,) dtype=float32_ref>,\n",
       " <tf.Variable 'Variable_3:0' shape=(2, 3) dtype=float32_ref>,\n",
       " <tf.Variable 'Variable_4:0' shape=(2, 3) dtype=float32_ref>,\n",
       " <tf.Variable 'Variable_5:0' shape=(2, 3) dtype=float32_ref>,\n",
       " <tf.Variable 'Variable_6:0' shape=(2, 3) dtype=float32_ref>,\n",
       " <tf.Variable 'Variable_7:0' shape=(3, 1) dtype=float32_ref>,\n",
       " <tf.Variable 'Variable_8:0' shape=(2, 3) dtype=float32_ref>,\n",
       " <tf.Variable 'Variable_9:0' shape=(3, 1) dtype=float32_ref>,\n",
       " <tf.Variable 'Variable_10:0' shape=(2, 3) dtype=float32_ref>,\n",
       " <tf.Variable 'Variable_11:0' shape=(3, 1) dtype=float32_ref>,\n",
       " <tf.Variable 'Variable_12:0' shape=(2, 3) dtype=float32_ref>,\n",
       " <tf.Variable 'Variable_13:0' shape=(3, 1) dtype=float32_ref>]"
      ]
     },
     "execution_count": 14,
     "metadata": {},
     "output_type": "execute_result"
    }
   ],
   "source": [
    "tf.global_variables()       #当前计算图中的所有变量"
   ]
  },
  {
   "cell_type": "code",
   "execution_count": 16,
   "metadata": {},
   "outputs": [
    {
     "data": {
      "text/plain": [
       "[<tf.Variable 'Variable:0' shape=(2, 3) dtype=float32_ref>,\n",
       " <tf.Variable 'Variable_1:0' shape=(2, 3) dtype=float32_ref>,\n",
       " <tf.Variable 'Variable_2:0' shape=(3,) dtype=float32_ref>,\n",
       " <tf.Variable 'Variable_3:0' shape=(2, 3) dtype=float32_ref>,\n",
       " <tf.Variable 'Variable_4:0' shape=(2, 3) dtype=float32_ref>,\n",
       " <tf.Variable 'Variable_5:0' shape=(2, 3) dtype=float32_ref>,\n",
       " <tf.Variable 'Variable_6:0' shape=(2, 3) dtype=float32_ref>,\n",
       " <tf.Variable 'Variable_7:0' shape=(3, 1) dtype=float32_ref>,\n",
       " <tf.Variable 'Variable_8:0' shape=(2, 3) dtype=float32_ref>,\n",
       " <tf.Variable 'Variable_9:0' shape=(3, 1) dtype=float32_ref>,\n",
       " <tf.Variable 'Variable_10:0' shape=(2, 3) dtype=float32_ref>,\n",
       " <tf.Variable 'Variable_11:0' shape=(3, 1) dtype=float32_ref>,\n",
       " <tf.Variable 'Variable_12:0' shape=(2, 3) dtype=float32_ref>,\n",
       " <tf.Variable 'Variable_13:0' shape=(3, 1) dtype=float32_ref>]"
      ]
     },
     "execution_count": 16,
     "metadata": {},
     "output_type": "execute_result"
    }
   ],
   "source": [
    "tf.trainable_variables()      #当前图中所有需要优化的产生。"
   ]
  },
  {
   "cell_type": "code",
   "execution_count": 17,
   "metadata": {},
   "outputs": [
    {
     "name": "stdout",
     "output_type": "stream",
     "text": [
      "<tf.Variable 'Variable_12:0' shape=(2, 3) dtype=float32_ref>\n",
      "<tf.Variable 'Variable_13:0' shape=(3, 1) dtype=float32_ref>\n"
     ]
    }
   ],
   "source": [
    "print(w1)\n",
    "print(w2)"
   ]
  },
  {
   "cell_type": "code",
   "execution_count": 22,
   "metadata": {},
   "outputs": [
    {
     "name": "stdout",
     "output_type": "stream",
     "text": [
      "<tf.Variable 'w3_3:0' shape=(2, 4) dtype=float32_ref>\n",
      "<tf.Variable 'w3_3:0' shape=(2, 4) dtype=float32_ref>\n",
      "<tf.Variable 'w2:0' shape=(3, 1) dtype=float32_ref>\n"
     ]
    }
   ],
   "source": [
    "# 改变w3的维度\n",
    "w3 = tf.Variable(tf.random_normal([2, 4], stddev=1, seed=1), name='w3')\n",
    "print(w3)\n",
    "tf.assign(w3, w2, validate_shape=False)   # 改变维度\n",
    "print(w3)\n",
    "print(w2)"
   ]
  },
  {
   "cell_type": "code",
   "execution_count": 27,
   "metadata": {},
   "outputs": [
    {
     "name": "stdout",
     "output_type": "stream",
     "text": [
      "[[3.957578 ]\n",
      " [4.0009336]]\n"
     ]
    }
   ],
   "source": [
    "# 使用placeholder\n",
    "x = tf.placeholder(tf.float32, shape=(None, 2), name='input')\n",
    "w1 = tf.Variable(tf.random_normal([2, 3], stddev=1, seed=1), name='w1')\n",
    "w2 = tf.Variable(tf.random_normal([3, 1], stddev=1, seed=1), name='w2')\n",
    "a = tf.matmul(x, w1)\n",
    "y = tf.matmul(a, w2)\n",
    "sess = tf.Session()\n",
    "init_op = tf.global_variables_initializer()\n",
    "sess.run(init_op)\n",
    "result = sess.run(y, feed_dict={x: [[0.7, 0.9], [0.7, 0.92]]})\n",
    "print(result)"
   ]
  },
  {
   "cell_type": "code",
   "execution_count": 1,
   "metadata": {},
   "outputs": [
    {
     "name": "stdout",
     "output_type": "stream",
     "text": [
      "[[-0.8113182   1.4845988   0.06532937]\n",
      " [-2.4427042   0.0992484   0.5912243 ]]\n",
      "[[-0.8113182 ]\n",
      " [ 1.4845988 ]\n",
      " [ 0.06532937]]\n",
      "train times: 0, total_cross_entropy: 1.8980486392974854\n",
      "train times: 1000, total_cross_entropy: 0.655075192451477\n",
      "train times: 2000, total_cross_entropy: 0.6261718273162842\n",
      "train times: 3000, total_cross_entropy: 0.6150963306427002\n",
      "train times: 4000, total_cross_entropy: 0.610308825969696\n",
      "[[ 0.02476983  0.56948674  1.6921941 ]\n",
      " [-2.1977348  -0.23668921  1.1143895 ]]\n",
      "[[-0.45544702]\n",
      " [ 0.49110925]\n",
      " [-0.98110336]]\n"
     ]
    }
   ],
   "source": [
    "# 完整神经网络样例\n",
    "import tensorflow as tf\n",
    "from numpy.random import RandomState\n",
    "batch_size = 8\n",
    "w1 = tf.Variable(tf.random_normal([2, 3], stddev=1, seed=1), name='w1')\n",
    "w2 = tf.Variable(tf.random_normal([3, 1], stddev=1, seed=1), name='w2')\n",
    "x = tf.placeholder(tf.float32, shape=(None, 2), name='x-input')\n",
    "y_ = tf.placeholder(tf.float32, shape=(None, 1), name='y-input')\n",
    "a = tf.matmul(x, w1)\n",
    "y = tf.matmul(a, w2)\n",
    "y = tf.sigmoid(y)\n",
    "cross_entropy = -tf.reduce_mean(y_ * tf.log(tf.clip_by_value(y, 1e-10, 1.0)) + (1-y_)*tf.log(tf.clip_by_value(1-y, 1e-10, 1.0)))\n",
    "train_step = tf.train.AdamOptimizer(1e-3).minimize(cross_entropy)\n",
    "rdm = RandomState(1)\n",
    "dataset_size = 128\n",
    "X = rdm.rand(dataset_size, 2)\n",
    "Y = [[int(x1+x2) < 1] for (x1, x2) in X]\n",
    "with tf.Session() as sess:\n",
    "    init_op = tf.global_variables_initializer()\n",
    "    sess.run(init_op)\n",
    "    print(sess.run(w1))\n",
    "    print(sess.run(w2))\n",
    "    \n",
    "    steps = 5000\n",
    "    for i in range(steps):\n",
    "        start = (i*batch_size) % dataset_size\n",
    "        end = min(start+batch_size, dataset_size)\n",
    "        sess.run(train_step, feed_dict={x: X[start: end], y_: Y[start: end]})\n",
    "        if i%1000 == 0:\n",
    "            total_cross_entropy = sess.run(cross_entropy, feed_dict={x: X, y_: Y})\n",
    "            print('train times: {0}, total_cross_entropy: {1}'.format(i, total_cross_entropy))\n",
    "    print(sess.run(w1))        \n",
    "    print(sess.run(w2))"
   ]
  },
  {
   "cell_type": "code",
   "execution_count": null,
   "metadata": {
    "collapsed": true
   },
   "outputs": [],
   "source": []
  }
 ],
 "metadata": {
  "kernelspec": {
   "display_name": "Python 3",
   "language": "python",
   "name": "python3"
  },
  "language_info": {
   "codemirror_mode": {
    "name": "ipython",
    "version": 3
   },
   "file_extension": ".py",
   "mimetype": "text/x-python",
   "name": "python",
   "nbconvert_exporter": "python",
   "pygments_lexer": "ipython3",
   "version": "3.5.4"
  }
 },
 "nbformat": 4,
 "nbformat_minor": 2
}
